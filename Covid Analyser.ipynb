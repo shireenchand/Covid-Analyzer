{
 "cells": [
  {
   "cell_type": "markdown",
   "metadata": {},
   "source": [
    "<h1><font color='orange'><center>COVID ANALYZER<center></font></h1>"
   ]
  },
  {
   "cell_type": "markdown",
   "metadata": {},
   "source": [
    "## Importing the required libraries"
   ]
  },
  {
   "cell_type": "code",
   "execution_count": 28,
   "metadata": {},
   "outputs": [],
   "source": [
    "from covid import Covid\n",
    "covid = Covid(source=\"worldometers\")\n",
    "import matplotlib.pyplot as plt\n",
    "from countryinfo import CountryInfo"
   ]
  },
  {
   "cell_type": "markdown",
   "metadata": {},
   "source": [
    "## Enter name of the country"
   ]
  },
  {
   "cell_type": "code",
   "execution_count": 29,
   "metadata": {},
   "outputs": [
    {
     "name": "stdout",
     "output_type": "stream",
     "text": [
      "Enter Country Name: japan\n"
     ]
    }
   ],
   "source": [
    "country_name = input(\"Enter Country Name: \")"
   ]
  },
  {
   "cell_type": "markdown",
   "metadata": {},
   "source": [
    "## Getting the data from the source"
   ]
  },
  {
   "cell_type": "code",
   "execution_count": 30,
   "metadata": {},
   "outputs": [],
   "source": [
    "country_status = covid.get_status_by_country_name(country_name)\n",
    "for key,value in country_status.items():\n",
    "    if value == None:\n",
    "        country_status[key]=0"
   ]
  },
  {
   "cell_type": "markdown",
   "metadata": {},
   "source": [
    "## Printing out the information"
   ]
  },
  {
   "cell_type": "code",
   "execution_count": 31,
   "metadata": {},
   "outputs": [
    {
     "name": "stdout",
     "output_type": "stream",
     "text": [
      "Country: Japan\n",
      "Population: 127080000\n",
      "Confirmed Cases: 364813\n",
      "Active Cases: 64303\n",
      "Deaths: 5084\n",
      "Recovered: 295426\n"
     ]
    }
   ],
   "source": [
    "total = CountryInfo(country_name)\n",
    "country_population = total.population()\n",
    "print(\"Country: \"+country_status['country'])\n",
    "print(\"Population: \"+str(country_population))\n",
    "print(\"Confirmed Cases: \"+str(country_status['confirmed']))\n",
    "print(\"Active Cases: \"+str(country_status['active']))\n",
    "print(\"Deaths: \"+str(country_status['deaths']))\n",
    "print(\"Recovered: \"+str(country_status['recovered']))"
   ]
  },
  {
   "cell_type": "markdown",
   "metadata": {},
   "source": [
    "## Plotting a pie chart"
   ]
  },
  {
   "cell_type": "code",
   "execution_count": 60,
   "metadata": {},
   "outputs": [
    {
     "data": {
      "image/png": "[encoded data removed]",
      "text/plain": [
       "<Figure size 432x288 with 1 Axes>"
      ]
     },
     "metadata": {},
     "output_type": "display_data"
    }
   ],
   "source": [
    "x = [str((country_status['recovered']/country_status['confirmed'])*100),str((country_status['active']/country_status['confirmed'])*100),str((country_status['deaths']/country_status['confirmed'])*100)]\n",
    "labels = 'recovered','active','deaths'\n",
    "plt.pie(x,autopct='%1.1f%%')\n",
    "plt.legend(labels,loc=\"lower left\")\n",
    "plt.show()"
   ]
  },
  {
   "cell_type": "markdown",
   "metadata": {},
   "source": [
    "## Current Status of the Country"
   ]
  },
  {
   "cell_type": "code",
   "execution_count": 33,
   "metadata": {},
   "outputs": [
    {
     "name": "stdout",
     "output_type": "stream",
     "text": [
      "New Cases: 4152\n",
      "New Deaths: 65\n"
     ]
    }
   ],
   "source": [
    "print(\"New Cases: \"+str(country_status['new_cases']))\n",
    "print(\"New Deaths: \"+str(country_status['new_deaths']))"
   ]
  }
 ],
 "metadata": {
  "kernelspec": {
   "display_name": "Python 3",
   "language": "python",
   "name": "python3"
  },
  "language_info": {
   "codemirror_mode": {
    "name": "ipython",
    "version": 3
   },
   "file_extension": ".py",
   "mimetype": "text/x-python",
   "name": "python",
   "nbconvert_exporter": "python",
   "pygments_lexer": "ipython3",
   "version": "3.8.5"
  }
 },
 "nbformat": 4,
 "nbformat_minor": 4
}
